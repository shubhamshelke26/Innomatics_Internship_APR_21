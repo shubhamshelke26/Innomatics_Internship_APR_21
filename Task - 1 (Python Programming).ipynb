{
 "cells": [
  {
   "cell_type": "code",
   "execution_count": 1,
   "metadata": {},
   "outputs": [
    {
     "name": "stdout",
     "output_type": "stream",
     "text": [
      "Hello, World!\n"
     ]
    }
   ],
   "source": [
    "# QUESTION 1\n",
    "# Say \"Hello, World!\" With Python\n",
    "\n",
    "print(\"Hello, World!\")"
   ]
  },
  {
   "cell_type": "code",
   "execution_count": 2,
   "metadata": {},
   "outputs": [
    {
     "name": "stdout",
     "output_type": "stream",
     "text": [
      "3\n",
      "Weird\n"
     ]
    }
   ],
   "source": [
    "# QUESTION 2\n",
    "# Python If-Else\n",
    "\n",
    "s=int(input())\n",
    "if s%2 == 1:\n",
    "    print(\"Weird\")\n",
    "elif s%2==0 and 2<=s<=5:     \n",
    "    print(\"Not Weird\")\n",
    "elif s%2==0 and 6<=s<=20:\n",
    "    print(\"Weird\") \n",
    "else:\n",
    "    print(\"Not Weird\")\n",
    "    "
   ]
  },
  {
   "cell_type": "code",
   "execution_count": 4,
   "metadata": {},
   "outputs": [
    {
     "name": "stdout",
     "output_type": "stream",
     "text": [
      "5\n",
      "5\n",
      "Addition = 10\n",
      "Subtraction = 0\n",
      "Multiplication = 25\n"
     ]
    }
   ],
   "source": [
    "# QUESTION 3\n",
    "# Arithmetic Operators\n",
    "\n",
    "s=int(input())\n",
    "p=int(input())\n",
    "sum= s+p\n",
    "sub= s-p\n",
    "pro= s*p\n",
    "print(\"Addition =\",(sum))\n",
    "print(\"Subtraction =\",(sub))\n",
    "print(\"Multiplication =\",(pro))\n"
   ]
  },
  {
   "cell_type": "code",
   "execution_count": 7,
   "metadata": {},
   "outputs": [
    {
     "name": "stdout",
     "output_type": "stream",
     "text": [
      "5\n",
      "4\n",
      "Divide =  1\n",
      "Float =  1.25\n"
     ]
    }
   ],
   "source": [
    "# QUESTION 4\n",
    "# Python: Division\n",
    "\n",
    "\n",
    "s=int(input())\n",
    "p=int(input())\n",
    "id= s//p\n",
    "float= s/p\n",
    "print(\"Divide = \",(id))\n",
    "print(\"Float = \",(float))"
   ]
  },
  {
   "cell_type": "code",
   "execution_count": 6,
   "metadata": {},
   "outputs": [
    {
     "name": "stdout",
     "output_type": "stream",
     "text": [
      "5\n",
      "0\n",
      "1\n",
      "4\n",
      "9\n",
      "16\n"
     ]
    }
   ],
   "source": [
    "# QUESTION 5\n",
    "# Loops\n",
    "\n",
    "s=int(input())\n",
    "for i in range(0,s):\n",
    "      list= i\n",
    "      squre=i**2\n",
    "      print(squre)"
   ]
  },
  {
   "cell_type": "code",
   "execution_count": 8,
   "metadata": {},
   "outputs": [],
   "source": [
    "# QUESTION 6\n",
    "# Write a function\n",
    "\n",
    "def is_leap(year):\n",
    "    return year % 4 == 0 and (year % 400 == 0 or year % 100 != 0)"
   ]
  },
  {
   "cell_type": "code",
   "execution_count": 11,
   "metadata": {},
   "outputs": [
    {
     "name": "stdout",
     "output_type": "stream",
     "text": [
      "26\n",
      "1,2,3,4,5,6,7,8,9,10,11,12,13,14,15,16,17,18,19,20,21,22,23,24,25,26\n"
     ]
    }
   ],
   "source": [
    "# QUESTION 7\n",
    "# Print Function\n",
    "\n",
    "print(*range(1, int(input())+1), sep=',')"
   ]
  },
  {
   "cell_type": "code",
   "execution_count": null,
   "metadata": {},
   "outputs": [],
   "source": []
  }
 ],
 "metadata": {
  "kernelspec": {
   "display_name": "Python 3",
   "language": "python",
   "name": "python3"
  },
  "language_info": {
   "codemirror_mode": {
    "name": "ipython",
    "version": 3
   },
   "file_extension": ".py",
   "mimetype": "text/x-python",
   "name": "python",
   "nbconvert_exporter": "python",
   "pygments_lexer": "ipython3",
   "version": "3.8.3"
  }
 },
 "nbformat": 4,
 "nbformat_minor": 4
}
