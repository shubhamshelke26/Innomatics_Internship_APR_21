{
 "cells": [
  {
   "cell_type": "code",
   "execution_count": null,
   "metadata": {},
   "outputs": [],
   "source": [
    "# QUESTION 1\n",
    "# Arrays\n",
    "\n",
    "import numpy as np\n",
    "\n",
    "def arrays(arr):\n",
    "     return(np.array(arr[::-1], float))\n",
    "\n",
    "arr = input().strip().split(' ')\n",
    "result = arrays(arr)\n",
    "print(result)"
   ]
  },
  {
   "cell_type": "code",
   "execution_count": null,
   "metadata": {},
   "outputs": [],
   "source": [
    "# QUESTION 2 \n",
    "# Shape and Reshape\n",
    "\n",
    "import numpy as np\n",
    "print(np.array(input().split(),int).reshape(3,3))"
   ]
  },
  {
   "cell_type": "code",
   "execution_count": null,
   "metadata": {},
   "outputs": [],
   "source": [
    "# QUESTION 3\n",
    "# Transpose and Flatten\n",
    "\n",
    "import numpy as np\n",
    "S, V = map(int, input().split())\n",
    "\n",
    "var = np.array([input().split() for i in range(S)], int)\n",
    "print (var.transpose())\n",
    "print (var.flatten())"
   ]
  },
  {
   "cell_type": "code",
   "execution_count": 1,
   "metadata": {},
   "outputs": [],
   "source": [
    "# QUESTION 4 \n",
    "# Concatenate\n",
    "\n",
    "import numpy as np\n",
    "\n",
    "S,V,P = map(int,input().split())\n",
    "\n",
    "var1 = np.array([input().split() for i in range(S)], int)\n",
    "var2= np.array([input().split() for i in range(V)], int)\n",
    "\n",
    "print(np.concatenate((var1,var2), axis = 0))"
   ]
  },
  {
   "cell_type": "code",
   "execution_count": 2,
   "metadata": {},
   "outputs": [],
   "source": [
    "# QUESTION 5\n",
    "# Zeros and Ones\n",
    "\n",
    "import numpy as np\n",
    "\n",
    "S = tuple(map(int, input().split()))\n",
    "print(np.zeros(S, int))\n",
    "print(np.ones(S, int))"
   ]
  },
  {
   "cell_type": "code",
   "execution_count": 3,
   "metadata": {},
   "outputs": [],
   "source": [
    "# QUESTION 6\n",
    "# Eye and Identity\n",
    "\n",
    "import numpy as np\n",
    "np.set_printoptions(sign=' ')\n",
    "print(np.eye(*map(int, input().split())))"
   ]
  },
  {
   "cell_type": "code",
   "execution_count": 4,
   "metadata": {},
   "outputs": [],
   "source": [
    "# QUESTION 7\n",
    "# Array Mathematics\n",
    "\n",
    "import numpy as np\n",
    "\n",
    "S, V = map(int, input().split())\n",
    "\n",
    "D = np.array([list(map(int, input().split())) for n in range(S)])\n",
    "F = np.array([list(map(int, input().split())) for n in range(S)])\n",
    "\n",
    "print(D + F)\n",
    "print(D - F)\n",
    "print(D * F)\n",
    "print(D // F)\n",
    "print(D % F)\n",
    "print(D ** F)\n",
    "\n"
   ]
  },
  {
   "cell_type": "code",
   "execution_count": 5,
   "metadata": {},
   "outputs": [],
   "source": [
    "# QUESTION 8\n",
    "# Floor, Ceil and Rint\n",
    "\n",
    "import numpy as np\n",
    "\n",
    "np.set_printoptions(sign=' ')\n",
    "\n",
    "var = np.array(input().split(),float)\n",
    "\n",
    "print(np.floor(var))\n",
    "print(np.ceil(var))\n",
    "print(np.rint(var))\n",
    "\n"
   ]
  },
  {
   "cell_type": "code",
   "execution_count": 6,
   "metadata": {},
   "outputs": [],
   "source": [
    "# QUESTION 9\n",
    "# Sum and Prod\n",
    "\n",
    "import numpy as np\n",
    "S, V = map(int, input().split())\n",
    "A = np.array([input().split() for _ in range(S)], int)\n",
    "print(np.prod(np.sum(A, axis=0), axis=0))\n",
    "\n"
   ]
  },
  {
   "cell_type": "code",
   "execution_count": 7,
   "metadata": {},
   "outputs": [],
   "source": [
    "# QUESTION 10\n",
    "# Min and Max\n",
    "\n",
    "import numpy as np\n",
    "S, V = map(int, input().split())\n",
    "A = np.array([input().split() for _ in range(S)], int)\n",
    "print(np.min(np.max(A, axis=1), axis=0))"
   ]
  },
  {
   "cell_type": "code",
   "execution_count": 8,
   "metadata": {},
   "outputs": [],
   "source": [
    "# QUESTION 11\n",
    "# Mean, Var, and Std\n",
    "\n",
    "import numpy as np\n",
    "\n",
    "n, m = [int(x) for x in input().strip().split()]\n",
    "array = np.array([[int(x) for x in input().strip().split()] for i in range(n)], dtype = float)\n",
    "print(np.mean(array, axis = 1))\n",
    "print(np.var(array, axis = 0))\n",
    "print(np.std(array))"
   ]
  },
  {
   "cell_type": "code",
   "execution_count": 9,
   "metadata": {},
   "outputs": [],
   "source": [
    "# QUESTION 12\n",
    "# Dot and Cross\n",
    "\n",
    "import numpy\n",
    "n = int(input())\n",
    "a = numpy.array([input().split() for _ in range(n)], int)\n",
    "b = numpy.array([input().split() for _ in range(n)], int)\n",
    "print(numpy.dot(a, b))\n"
   ]
  },
  {
   "cell_type": "code",
   "execution_count": 10,
   "metadata": {},
   "outputs": [],
   "source": [
    "# QUESTION 13\n",
    "# Inner and Outer\n",
    "\n",
    "import numpy\n",
    "A = numpy.array(input().split(), int)\n",
    "B = numpy.array(input().split(), int)\n",
    "print(numpy.inner(A, B), numpy.outer(A, B), sep='\\n')"
   ]
  },
  {
   "cell_type": "code",
   "execution_count": null,
   "metadata": {},
   "outputs": [],
   "source": [
    "# QUESTION 14\n",
    "# Polynomials\n",
    "\n",
    "import numpy as np\n",
    "poly = [float(x) for x in input().split()]\n",
    "x = float(input())\n",
    "\n",
    "print(np.polyval(poly, x))"
   ]
  },
  {
   "cell_type": "code",
   "execution_count": null,
   "metadata": {},
   "outputs": [],
   "source": [
    "# QUESTION 15\n",
    "# Linear Algebra\n",
    "\n",
    "import numpy as np\n",
    "import numpy\n",
    "N = int(input())\n",
    "A = np.array([input().split() for _ in range(N)], float)\n",
    "print(round(np.linalg.det(A),2))"
   ]
  }
 ],
 "metadata": {
  "kernelspec": {
   "display_name": "Python 3",
   "language": "python",
   "name": "python3"
  },
  "language_info": {
   "codemirror_mode": {
    "name": "ipython",
    "version": 3
   },
   "file_extension": ".py",
   "mimetype": "text/x-python",
   "name": "python",
   "nbconvert_exporter": "python",
   "pygments_lexer": "ipython3",
   "version": "3.8.3"
  }
 },
 "nbformat": 4,
 "nbformat_minor": 4
}
