{
 "cells": [
  {
   "cell_type": "code",
   "execution_count": 12,
   "metadata": {},
   "outputs": [
    {
     "name": "stdout",
     "output_type": "stream",
     "text": [
      "5\n",
      "4\n",
      "0\n",
      "1\n",
      "[[0, 0, 0], [0, 2, 0], [0, 3, 0], [0, 4, 0], [1, 1, 0], [1, 2, 0], [1, 3, 0], [1, 4, 0], [2, 0, 0], [2, 1, 0], [2, 2, 0], [2, 3, 0], [2, 4, 0], [3, 0, 0], [3, 1, 0], [3, 2, 0], [3, 3, 0], [3, 4, 0], [4, 0, 0], [4, 1, 0], [4, 2, 0], [4, 3, 0], [4, 4, 0], [5, 0, 0], [5, 1, 0], [5, 2, 0], [5, 3, 0], [5, 4, 0]]\n"
     ]
    }
   ],
   "source": [
    "# QUESTION 1\n",
    "# List Comprehensions\n",
    "\n",
    "s = int(input())\n",
    "p = int(input())\n",
    "q = int(input())\n",
    "N = int(input())\n",
    "var = [[X, Y, Z] for X in range(s+1) for Y in range(p+1) for Z in range(q+1) \n",
    "if X + Y + Z != N]\n",
    "print(var)"
   ]
  },
  {
   "cell_type": "code",
   "execution_count": 16,
   "metadata": {},
   "outputs": [
    {
     "name": "stdout",
     "output_type": "stream",
     "text": [
      "5\n",
      "2 3 6 6 5\n",
      "5\n"
     ]
    }
   ],
   "source": [
    "# QUESTION 2\n",
    "# Find the Runner-Up Score!\n",
    "\n",
    "S = int(input())\n",
    "var= map(int,input().split())\n",
    "print(sorted(list(set(var)))[-2])"
   ]
  },
  {
   "cell_type": "code",
   "execution_count": null,
   "metadata": {},
   "outputs": [],
   "source": [
    "# QUESTION 3\n",
    "# Nested Lists\n",
    "\n",
    "gl = []; \n",
    "for _ in range(int(input())):\n",
    "    name = input()\n",
    "    grade = float(input())\n",
    "    \n",
    "    gl.append([name, grade])\n",
    "second_highest = sorted(set([grade for name, grade in gl]))[1]\n",
    "print('\\n'.join(sorted([name for name, grade in gl if grade == second_highest])))\n"
   ]
  },
  {
   "cell_type": "code",
   "execution_count": 5,
   "metadata": {},
   "outputs": [],
   "source": [
    "# QUESTION 4\n",
    "# Finding the percentage\n",
    "\n",
    "\n",
    "n = int(input())\n",
    "student_grades = {}\n",
    "for _ in range(n):\n",
    "        line = input().split()\n",
    "        name, grades = line[0], line[1:]\n",
    "        grades = map(float, grades)\n",
    "        student_grades[name] = grades\n",
    "qn = input()\n",
    "marks=0\n",
    "for i in student_grades[qn]:\n",
    "        marks=marks+i\n",
    "avg=marks/3\n",
    "print(\"%.2f\"%avg)"
   ]
  },
  {
   "cell_type": "code",
   "execution_count": 6,
   "metadata": {},
   "outputs": [],
   "source": [
    "# QUESTION 5\n",
    "# List\n",
    "\n",
    "var= []\n",
    "for i in range(int(input())):\n",
    "    s = input().split()\n",
    "    for i in range(1,len(s)):\n",
    "        s[i] = int(s[i])\n",
    "        \n",
    "    if s[0] == \"append\":\n",
    "        var.append(s[1])\n",
    "    elif s[0] == \"extend\":    \n",
    "        var.extend(s[1:])\n",
    "    elif s[0] == \"insert\":\n",
    "        var.insert(s[1],s[2])\n",
    "    elif s[0] == \"remove\":\n",
    "        var.remove(s[1])\n",
    "    elif s[0] == \"pop\":\n",
    "        var.pop()\n",
    "    elif s[0] == \"index\":\n",
    "        print (var.index(s[1]))\n",
    "    elif s[0] == \"count\":\n",
    "        print (var.count(s[1]))\n",
    "    elif s[0] == \"sort\":\n",
    "        var.sort()\n",
    "    elif s[0] == \"reverse\":\n",
    "        var.reverse()\n",
    "    elif s[0] == \"print\":\n",
    "        print (var)"
   ]
  },
  {
   "cell_type": "code",
   "execution_count": 7,
   "metadata": {},
   "outputs": [],
   "source": [
    "# QUESTION 6\n",
    "# Tuples\n",
    "\n",
    "s= int(input())\n",
    "int_list= tuple(map(int, input().split()))\n",
    "print(hash(int_list))"
   ]
  },
  {
   "cell_type": "code",
   "execution_count": 8,
   "metadata": {},
   "outputs": [],
   "source": [
    "\n",
    "# QUESTION 7\n",
    "# Introduction to Sets\n",
    "\n",
    "\n",
    "\n",
    "def average(array):\n",
    "    sum_array = sum(set(array))\n",
    "    len_array = len(set(array))\n",
    "    output = sum_array/len_array\n",
    "    return output;\n",
    "\n",
    "if __name__ == '__main__':\n",
    "    n = int(input())\n",
    "    arr = list(map(int, input().split()))\n",
    "    result = average(arr)\n",
    "    print(result)"
   ]
  },
  {
   "cell_type": "code",
   "execution_count": 9,
   "metadata": {},
   "outputs": [],
   "source": [
    "# QUESTION 8\n",
    "# No Idea\n",
    "\n",
    "\n",
    "s = input().split()\n",
    "m = int(s[0])\n",
    "n = int(s[1])\n",
    "\n",
    "storage = list()\n",
    "count = 0\n",
    "\n",
    "storage = list(map(int, input().strip().split()))\n",
    "\n",
    "A = set(map(int, input().strip().split()))\n",
    "B = set(map(int, input().strip().split()))\n",
    "\n",
    "for i in storage:\n",
    "    if i in A:\n",
    "        count = count+1\n",
    "    if i in B:\n",
    "        count = count-1\n",
    "\n",
    "print(count)\n"
   ]
  },
  {
   "cell_type": "code",
   "execution_count": 10,
   "metadata": {},
   "outputs": [],
   "source": [
    "# QUESTION 9\n",
    "# Symmetric Difference\n",
    "\n",
    "input()\n",
    "s= set(map(int,input().split()))\n",
    "input()\n",
    "p= set(map(int,input().split()))\n",
    "print(*sorted(s^p), sep=\"\\n\")"
   ]
  },
  {
   "cell_type": "code",
   "execution_count": 11,
   "metadata": {},
   "outputs": [],
   "source": [
    "# QUESTION 10\n",
    "# Set .add()\n",
    "\n",
    "s= int(input().strip())\n",
    "stamps = set()\n",
    "    \n",
    "for _ in range(s):\n",
    "        stamp = input().strip()\n",
    "        stamps.add(stamp)\n",
    "        \n",
    "print(len(stamps))"
   ]
  },
  {
   "cell_type": "code",
   "execution_count": 1,
   "metadata": {},
   "outputs": [],
   "source": [
    "# QUESTION 11\n",
    "# Set .discard(), .remove() & .pop()\n",
    "\n",
    "n = int(input())\n",
    "s = set(map(int,input().split()))\n",
    "num = int(input())\n",
    "for i in range(num):\n",
    "    ip = input().split()\n",
    "    if ip[0]==\"remove\":\n",
    "        s.remove(int(ip[1]))\n",
    "    elif ip[0]==\"discard\":\n",
    "        s.discard(int(ip[1]))\n",
    "    else :\n",
    "        s.pop()\n",
    "print(sum(list(s)))"
   ]
  },
  {
   "cell_type": "code",
   "execution_count": 2,
   "metadata": {},
   "outputs": [],
   "source": [
    "# QUESTION 12\n",
    "# Set .union() Operation\n",
    "\n",
    "s = int(input())\n",
    "s1 = set(input().split());\n",
    "p = int(input())\n",
    "s2 = set(input().split());\n",
    "s3 = s1.union(s2)\n",
    "print(len(s3))"
   ]
  },
  {
   "cell_type": "code",
   "execution_count": 3,
   "metadata": {},
   "outputs": [],
   "source": [
    "# QUESTION 13\n",
    "# Set .intersection() Operation\n",
    "\n",
    "s = int(input())\n",
    "s1 = set(input().split());\n",
    "p = int(input())\n",
    "s2 = set(input().split());\n",
    "s3 = s1.intersection(s2)\n",
    "print(len(s3))"
   ]
  },
  {
   "cell_type": "code",
   "execution_count": 4,
   "metadata": {},
   "outputs": [],
   "source": [
    "# QUESTION 14\n",
    "# Set .difference() Operation\n",
    "\n",
    "\n",
    "# Enter your code here. Read input from STDIN. Print output to STDOUT\n",
    "s = int(input())\n",
    "s1 = set(input().split());\n",
    "p = int(input())\n",
    "s2 = set(input().split());\n",
    "s3 = s1.difference(s2)\n",
    "print(len(s3))"
   ]
  },
  {
   "cell_type": "code",
   "execution_count": 5,
   "metadata": {},
   "outputs": [],
   "source": [
    "# QUESTION 15\n",
    "# Set .symmetric_difference() Operation\n",
    "# Enter your code here. Read input from STDIN. Print output to STDOUT\n",
    "s = int(input())\n",
    "s1 = set(input().split());\n",
    "p = int(input())\n",
    "s2 = set(input().split());\n",
    "s3 = s1.symmetric_difference(s2)\n",
    "print(len(s3))"
   ]
  },
  {
   "cell_type": "code",
   "execution_count": null,
   "metadata": {},
   "outputs": [],
   "source": [
    "# QUESTION 16\n",
    "# Set Mutations\n",
    "\n",
    "\n",
    "\n",
    "# Enter your code here. Read input from STDIN. Print output to STDOUT\n",
    "l_set = int(input())\n",
    "\n",
    "s = set(map(int, input().split()))\n",
    "\n",
    "op_len = int(input())\n",
    "\n",
    "for i in range(op_len):\n",
    "    operation = input().split()\n",
    "    if operation[0] == 'intersection_update':\n",
    "        temp_storage = set(map(int, input().split()))\n",
    "        s.intersection_update(temp_storage)\n",
    "    elif operation[0] == 'update':\n",
    "        temp_storage = set(map(int, input().split()))\n",
    "        s.update(temp_storage)\n",
    "    elif operation[0] == 'symmetric_difference_update':\n",
    "        temp_storage = set(map(int, input().split()))\n",
    "        s.symmetric_difference_update(temp_storage)\n",
    "    elif operation[0] == 'difference_update':\n",
    "        temp_storage = set(map(int, input().split()))\n",
    "        s.difference_update(temp_storage)\n",
    "    else :\n",
    "          False\n",
    "\n",
    "print(sum(s))"
   ]
  },
  {
   "cell_type": "code",
   "execution_count": null,
   "metadata": {},
   "outputs": [],
   "source": [
    "# QUESTION 18\n",
    "# The Captain's Room\n",
    "\n",
    "S= int(input())\n",
    "\n",
    "storage = map(int, input().split())\n",
    "storage = sorted(storage)\n",
    "\n",
    "for i in range(len(storage)):\n",
    "    if(i != len(storage)-1):\n",
    "        if(storage[i]!=storage[i-1] and storage[i]!=storage[i+1]):\n",
    "            print(storage[i])\n",
    "            break;\n",
    "    else:\n",
    "        print(storage[i])"
   ]
  },
  {
   "cell_type": "code",
   "execution_count": null,
   "metadata": {},
   "outputs": [],
   "source": [
    "# QUESTION 19\n",
    "# check subset\n",
    "\n",
    "# Enter your code here. Read input from STDIN. Print output to STDOUT\n",
    "Z = int(input())\n",
    "\n",
    "for _ in range(Z):\n",
    "    s = input()\n",
    "    S = set(input().split())\n",
    "    v = int(input())\n",
    "    V = set(input().split())\n",
    "    print(S.issubset(V))"
   ]
  },
  {
   "cell_type": "code",
   "execution_count": null,
   "metadata": {},
   "outputs": [],
   "source": [
    "# QUESTION 20\n",
    "# Check Strict Superset\n",
    "\n",
    "storage = set(input().split())\n",
    "S = int(input())\n",
    "output = True\n",
    "\n",
    "for i in range(S):\n",
    "    storage2 = set(input().split())\n",
    "    if not storage2.issubset(storage):\n",
    "        output = False\n",
    "    if len(storage2) >= len(storage):\n",
    "        output = False\n",
    "\n",
    "print(output)"
   ]
  }
 ],
 "metadata": {
  "kernelspec": {
   "display_name": "Python 3",
   "language": "python",
   "name": "python3"
  },
  "language_info": {
   "codemirror_mode": {
    "name": "ipython",
    "version": 3
   },
   "file_extension": ".py",
   "mimetype": "text/x-python",
   "name": "python",
   "nbconvert_exporter": "python",
   "pygments_lexer": "ipython3",
   "version": "3.8.3"
  }
 },
 "nbformat": 4,
 "nbformat_minor": 4
}
