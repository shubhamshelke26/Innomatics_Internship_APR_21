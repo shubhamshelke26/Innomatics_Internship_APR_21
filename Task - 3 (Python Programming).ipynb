{
 "cells": [
  {
   "cell_type": "code",
   "execution_count": 1,
   "metadata": {},
   "outputs": [],
   "source": [
    "# Question 1\n",
    "# Polar Coordinates\n",
    "\n",
    "\n",
    "import cmath\n",
    "s = input()\n",
    "print (abs (complex (s)))\n",
    "print (cmath.phase (complex (s)))"
   ]
  },
  {
   "cell_type": "code",
   "execution_count": 2,
   "metadata": {},
   "outputs": [],
   "source": [
    "# Question 2\n",
    "# Find Angle MB\n",
    "\n",
    "def cal_angle(AB,BC):\n",
    "    from math import  atan2,degrees\n",
    "    print(str(round(degrees(atan2(AB,BC))))+ '°')\n",
    "cal_angle(int(input()), int(input()))    "
   ]
  },
  {
   "cell_type": "code",
   "execution_count": 3,
   "metadata": {},
   "outputs": [],
   "source": [
    "# Question 3\n",
    "# Triangle Quest 2\n",
    "\n",
    "\n",
    "for i in range(1,int(input())+1): \n",
    "    print ((10**i//9)**2)"
   ]
  },
  {
   "cell_type": "code",
   "execution_count": 4,
   "metadata": {},
   "outputs": [],
   "source": [
    "# Question 4\n",
    "# Mod Divmod\n",
    "\n",
    "A = int(input());\n",
    "B = int(input());\n",
    "print(A//B);\n",
    "print(A%B);\n",
    "print(divmod(A,B));"
   ]
  },
  {
   "cell_type": "code",
   "execution_count": 5,
   "metadata": {},
   "outputs": [],
   "source": [
    "# Question 5\n",
    "# Power - Mod Power\n",
    "\n",
    "\n",
    "A = int(input());\n",
    "B = int(input());\n",
    "S = int(input());\n",
    "\n",
    "print(pow(A,B));\n",
    "print(pow(A,B,S));"
   ]
  },
  {
   "cell_type": "code",
   "execution_count": 6,
   "metadata": {},
   "outputs": [],
   "source": [
    "# Question 6\n",
    "# Integers Come In All Sizes\n",
    "\n",
    "A = int(input())\n",
    "B = int(input())\n",
    "C = int(input())\n",
    "D = int(input())\n",
    "\n",
    "print((A**B)+(C**D))"
   ]
  },
  {
   "cell_type": "code",
   "execution_count": null,
   "metadata": {},
   "outputs": [],
   "source": [
    "# Question 7\n",
    "# Triangle Quest\n",
    "\n",
    "for i in range(1,int(input())+1): \n",
    "    print (i*10**i//9)"
   ]
  }
 ],
 "metadata": {
  "kernelspec": {
   "display_name": "Python 3",
   "language": "python",
   "name": "python3"
  },
  "language_info": {
   "codemirror_mode": {
    "name": "ipython",
    "version": 3
   },
   "file_extension": ".py",
   "mimetype": "text/x-python",
   "name": "python",
   "nbconvert_exporter": "python",
   "pygments_lexer": "ipython3",
   "version": "3.8.3"
  }
 },
 "nbformat": 4,
 "nbformat_minor": 4
}
